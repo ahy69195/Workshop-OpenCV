{
 "cells": [
  {
   "cell_type": "code",
   "execution_count": 1,
   "id": "510c87af",
   "metadata": {},
   "outputs": [],
   "source": [
    "# import numpy, opencv, and matplotlib\n",
    "import numpy as np\n",
    "import cv2\n",
    "from matplotlib import pyplot "
   ]
  },
  {
   "cell_type": "code",
   "execution_count": 2,
   "id": "852465d8",
   "metadata": {},
   "outputs": [],
   "source": [
    "# produce a sample of data\n",
    "X = np.random.randint(20,47,(20,2))\n",
    "Y = np.random.randint(55,77,(20,2))\n",
    "Z = np.vstack((X,Y))"
   ]
  },
  {
   "cell_type": "code",
   "execution_count": 3,
   "id": "2b4435ae",
   "metadata": {},
   "outputs": [],
   "source": [
    "# the data type needs to be np.float32\n",
    "# this is the conversion\n",
    "Z = np.float32(Z)"
   ]
  },
  {
   "cell_type": "code",
   "execution_count": 4,
   "id": "e0dfcabf",
   "metadata": {},
   "outputs": [],
   "source": [
    "# when the criteria is satisfied the algorithm iteration will stop\n",
    "\n",
    "# first, must define the criteria \n",
    "# cv2.TERM_CRITERIA_EPS: stops algorithm if a specific accuracy is reached\n",
    "# cv2.TERM_CRITERIA_MAX_ITER: stops algorithm if specific amount of iterations is met\n",
    "# cv2.TERM_CRITERIA_EPS + cv2.TERM_CRITERIA_MAX_ITER: stops when one is met\n",
    "criteria = (cv2.TERM_CRITERIA_EPS + cv2.TERM_CRITERIA_MAX_ITER, 15, 3.0)\n",
    "\n",
    "# second, apply k-means\n",
    "ret,label,center=cv2.kmeans(Z,2,None,criteria,10,cv2.KMEANS_RANDOM_CENTERS)\n"
   ]
  },
  {
   "cell_type": "code",
   "execution_count": 5,
   "id": "e353725b",
   "metadata": {},
   "outputs": [],
   "source": [
    "# next, the data needs to be seperated into the two groups\n",
    "# the data points are then labeled based upon which group they are assigned\n",
    "A = Z[label.ravel()==0]\n",
    "B = Z[label.ravel()==1]"
   ]
  },
  {
   "cell_type": "code",
   "execution_count": 6,
   "id": "7fa07f41",
   "metadata": {},
   "outputs": [
    {
     "data": {
      "image/png": "[encoded data removed]",
      "text/plain": [
       "<Figure size 432x288 with 1 Axes>"
      ]
     },
     "metadata": {
      "needs_background": "light"
     },
     "output_type": "display_data"
    }
   ],
   "source": [
    "# finally, we plot the data and the chosen centroids\n",
    "pyplot.scatter(A[:,0],A[:,1])\n",
    "pyplot.scatter(B[:,0],B[:,1],c = 'b')\n",
    "pyplot.scatter(center[:,0],center[:,1],s = 100,c = 'r', marker = 's')\n",
    "pyplot.xlabel('Height'),pyplot.ylabel('Weight')\n",
    "pyplot.show()"
   ]
  },
  {
   "cell_type": "code",
   "execution_count": null,
   "id": "f3237ba1",
   "metadata": {},
   "outputs": [],
   "source": []
  }
 ],
 "metadata": {
  "kernelspec": {
   "display_name": "Python 3",
   "language": "python",
   "name": "python3"
  },
  "language_info": {
   "codemirror_mode": {
    "name": "ipython",
    "version": 3
   },
   "file_extension": ".py",
   "mimetype": "text/x-python",
   "name": "python",
   "nbconvert_exporter": "python",
   "pygments_lexer": "ipython3",
   "version": "3.8.8"
  }
 },
 "nbformat": 4,
 "nbformat_minor": 5
}
